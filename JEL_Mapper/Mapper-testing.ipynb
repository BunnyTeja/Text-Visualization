{
 "cells": [
  {
   "cell_type": "code",
   "execution_count": 1,
   "id": "3cf8a579",
   "metadata": {},
   "outputs": [
    {
     "name": "stderr",
     "output_type": "stream",
     "text": [
      "C:\\Users\\anike\\anaconda3\\envs\\kite\\lib\\site-packages\\fuzzywuzzy\\fuzz.py:11: UserWarning: Using slow pure-python SequenceMatcher. Install python-Levenshtein to remove this warning\n",
      "  warnings.warn('Using slow pure-python SequenceMatcher. Install python-Levenshtein to remove this warning')\n"
     ]
    }
   ],
   "source": [
    "import JEL_Mapper as jel\n",
    "import pandas as pd"
   ]
  },
  {
   "cell_type": "code",
   "execution_count": 2,
   "id": "6acc1210",
   "metadata": {},
   "outputs": [],
   "source": [
    "code_to_term, term_to_code = jel.load_data()"
   ]
  },
  {
   "cell_type": "code",
   "execution_count": 3,
   "id": "dc36ebde",
   "metadata": {},
   "outputs": [],
   "source": [
    "def top_codes(url):\n",
    "    trie = jel.get_trie(term_to_code)\n",
    "    text = jel.get_data_url(url)\n",
    "    letter, codes = jel.get_codes_class(text, term_to_code, code_to_term, trie)\n",
    "    if letter == \"\" and codes == {}:\n",
    "        print(\"No codes found.\")\n",
    "        return None\n",
    "    \n",
    "    else:\n",
    "        data = {'Code' : [], 'Term' : [], 'Count' : []}\n",
    "        print('Top Code Category : ' + letter + ' (' + code_to_term[letter] + ')\\n\\n\\n')\n",
    "        for i in codes:\n",
    "            data['Code'].append(i)\n",
    "            data['Term'].append(code_to_term[i])\n",
    "            data['Count'].append(codes[i])\n",
    "        df = pd.DataFrame(data)\n",
    "        return df"
   ]
  },
  {
   "cell_type": "code",
   "execution_count": 6,
   "id": "571c2cbe",
   "metadata": {},
   "outputs": [
    {
     "name": "stdout",
     "output_type": "stream",
     "text": [
      "Top Code Category : F (International Economics)\n",
      "\n",
      "\n",
      "\n",
      "--- Top codes and their counts ---\n",
      "\n"
     ]
    },
    {
     "data": {
      "text/html": [
       "<div>\n",
       "<style scoped>\n",
       "    .dataframe tbody tr th:only-of-type {\n",
       "        vertical-align: middle;\n",
       "    }\n",
       "\n",
       "    .dataframe tbody tr th {\n",
       "        vertical-align: top;\n",
       "    }\n",
       "\n",
       "    .dataframe thead th {\n",
       "        text-align: right;\n",
       "    }\n",
       "</style>\n",
       "<table border=\"1\" class=\"dataframe\">\n",
       "  <thead>\n",
       "    <tr style=\"text-align: right;\">\n",
       "      <th></th>\n",
       "      <th>Code</th>\n",
       "      <th>Term</th>\n",
       "      <th>Count</th>\n",
       "    </tr>\n",
       "  </thead>\n",
       "  <tbody>\n",
       "    <tr>\n",
       "      <th>0</th>\n",
       "      <td>F63</td>\n",
       "      <td>Economic Development</td>\n",
       "      <td>5</td>\n",
       "    </tr>\n",
       "    <tr>\n",
       "      <th>1</th>\n",
       "      <td>N</td>\n",
       "      <td>Economic History</td>\n",
       "      <td>4</td>\n",
       "    </tr>\n",
       "    <tr>\n",
       "      <th>2</th>\n",
       "      <td>P16</td>\n",
       "      <td>Political Economy</td>\n",
       "      <td>4</td>\n",
       "    </tr>\n",
       "    <tr>\n",
       "      <th>3</th>\n",
       "      <td>F</td>\n",
       "      <td>International Economics</td>\n",
       "      <td>2</td>\n",
       "    </tr>\n",
       "    <tr>\n",
       "      <th>4</th>\n",
       "      <td>B26</td>\n",
       "      <td>Financial Economics</td>\n",
       "      <td>1</td>\n",
       "    </tr>\n",
       "    <tr>\n",
       "      <th>5</th>\n",
       "      <td>L</td>\n",
       "      <td>Industrial Organization</td>\n",
       "      <td>1</td>\n",
       "    </tr>\n",
       "    <tr>\n",
       "      <th>6</th>\n",
       "      <td>P35</td>\n",
       "      <td>Public Economics</td>\n",
       "      <td>1</td>\n",
       "    </tr>\n",
       "  </tbody>\n",
       "</table>\n",
       "</div>"
      ],
      "text/plain": [
       "  Code                     Term  Count\n",
       "0  F63     Economic Development      5\n",
       "1    N         Economic History      4\n",
       "2  P16        Political Economy      4\n",
       "3    F  International Economics      2\n",
       "4  B26      Financial Economics      1\n",
       "5    L  Industrial Organization      1\n",
       "6  P35         Public Economics      1"
      ]
     },
     "execution_count": 6,
     "metadata": {},
     "output_type": "execute_result"
    }
   ],
   "source": [
    "url = 'https://economics.harvard.edu/economic-fields/economic-development'\n",
    "#url = 'https://en.wikipedia.org/wiki/Economics'\n",
    "df = top_codes(url)\n",
    "print('--- Top codes and their counts ---\\n')\n",
    "df"
   ]
  },
  {
   "cell_type": "code",
   "execution_count": null,
   "id": "36053d77",
   "metadata": {},
   "outputs": [],
   "source": []
  }
 ],
 "metadata": {
  "kernelspec": {
   "display_name": "Python 3 (ipykernel)",
   "language": "python",
   "name": "python3"
  },
  "language_info": {
   "codemirror_mode": {
    "name": "ipython",
    "version": 3
   },
   "file_extension": ".py",
   "mimetype": "text/x-python",
   "name": "python",
   "nbconvert_exporter": "python",
   "pygments_lexer": "ipython3",
   "version": "3.8.13"
  }
 },
 "nbformat": 4,
 "nbformat_minor": 5
}
